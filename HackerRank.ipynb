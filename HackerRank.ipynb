{
 "cells": [
  {
   "cell_type": "code",
   "execution_count": 23,
   "id": "56870de9",
   "metadata": {},
   "outputs": [],
   "source": [
    "import numpy as np\n",
    "import pandas as pd\n",
    "import math\n",
    "import statistics"
   ]
  },
  {
   "cell_type": "markdown",
   "id": "bebb0ae3",
   "metadata": {},
   "source": [
    "# warmup"
   ]
  },
  {
   "cell_type": "markdown",
   "id": "3190da7f",
   "metadata": {},
   "source": [
    "sock pairs"
   ]
  },
  {
   "cell_type": "code",
   "execution_count": 60,
   "id": "4e4b56cd",
   "metadata": {},
   "outputs": [
    {
     "data": {
      "text/plain": [
       "[2, 1]"
      ]
     },
     "execution_count": 60,
     "metadata": {},
     "output_type": "execute_result"
    }
   ],
   "source": [
    "counts=[[x,ar.count(x)] for x in set(ar)]\n",
    "counts2=[[x,y] for (x,y) in counts if y>1]\n",
    "counts3=[[x,math.floor(y/2)] for (x,y) in counts2]\n",
    "counts4=[y for (x,y) in counts3]\n",
    "sum(counts4)"
   ]
  },
  {
   "cell_type": "markdown",
   "id": "d273d719",
   "metadata": {},
   "source": [
    "Counting valleys"
   ]
  },
  {
   "cell_type": "code",
   "execution_count": 62,
   "id": "2cbd52a8",
   "metadata": {},
   "outputs": [],
   "source": [
    "steps=8\n",
    "path='UDDDUDUU'"
   ]
  },
  {
   "cell_type": "code",
   "execution_count": 80,
   "id": "ab340426",
   "metadata": {},
   "outputs": [
    {
     "data": {
      "text/plain": [
       "1"
      ]
     },
     "execution_count": 80,
     "metadata": {},
     "output_type": "execute_result"
    }
   ],
   "source": [
    "def count_valleys(steps,path):\n",
    "    path2=[x for x in path]\n",
    "    path3=0\n",
    "    valley_count=0\n",
    "    for i in path2:\n",
    "        if i=='U':\n",
    "            path3+=1\n",
    "            if path3==0:\n",
    "                valley_count+=1\n",
    "        else:\n",
    "            path3+=-1\n",
    "    return(valley_count)\n",
    "    \n",
    "count_valleys(8,'UDDDUDUU')\n",
    "count_valleys(8,'DDUDUDUDUU')"
   ]
  },
  {
   "cell_type": "markdown",
   "id": "7beb3560",
   "metadata": {},
   "source": [
    "Jumping on clouds"
   ]
  },
  {
   "cell_type": "code",
   "execution_count": 151,
   "id": "9724ff2a",
   "metadata": {},
   "outputs": [
    {
     "name": "stdout",
     "output_type": "stream",
     "text": [
      "0\n",
      "0\n",
      "1\n",
      "0\n",
      "0\n",
      "1\n",
      "0\n"
     ]
    }
   ],
   "source": [
    "c=[0, 0, 1, 0, 0, 1, 0]\n",
    "c2=[x for x in range(0,len(c))]\n",
    "# sum_c=0\n",
    "for x in c:\n",
    "    print(c2[x])\n",
    "# c2\n",
    "# len(c)"
   ]
  },
  {
   "cell_type": "code",
   "execution_count": 154,
   "id": "e1030984",
   "metadata": {},
   "outputs": [
    {
     "data": {
      "text/plain": [
       "7"
      ]
     },
     "execution_count": 154,
     "metadata": {},
     "output_type": "execute_result"
    }
   ],
   "source": [
    "len(c)\n",
    "# c[4]\n",
    "# range(0,len(c))"
   ]
  },
  {
   "cell_type": "code",
   "execution_count": 163,
   "id": "7bfb1cc3",
   "metadata": {},
   "outputs": [
    {
     "name": "stdout",
     "output_type": "stream",
     "text": [
      "step 0\n",
      "0 0 0\n",
      "jump 1\n",
      "step 1\n",
      "1 1 1\n",
      "jump 2\n",
      "step 2\n",
      "2 2 3\n",
      "skip step\n",
      "step 3\n",
      "3 3 3\n",
      "jump 1\n",
      "step 4\n",
      "4 4 4\n",
      "jump 2\n",
      "step 5\n",
      "5 5 6\n",
      "skip step\n",
      "step 6\n",
      "6 6 6\n"
     ]
    },
    {
     "data": {
      "text/plain": [
       "4"
      ]
     },
     "execution_count": 163,
     "metadata": {},
     "output_type": "execute_result"
    }
   ],
   "source": [
    "def jumpingOnClouds(c):\n",
    "    jumps=0\n",
    "    current_cloud=0\n",
    "    c2=[x for x in range(0,len(c))]\n",
    "    for x in range(0,len(c)):    \n",
    "        print('step',x)\n",
    "        print(x,c2[x],current_cloud)\n",
    "        if c2[x]<current_cloud:\n",
    "            print('skip step')\n",
    "            continue\n",
    "        elif current_cloud+3<=len(c) and c[current_cloud+2]==0:\n",
    "            print('jump 2')\n",
    "            current_cloud+=2\n",
    "            jumps+=1\n",
    "        elif current_cloud+2<=len(c) and c[current_cloud+1]==0:\n",
    "            print('jump 1')\n",
    "            current_cloud+=1\n",
    "            jumps+=1\n",
    "        if current_cloud==len(c):\n",
    "            break\n",
    "    return(jumps)\n",
    "    \n",
    "    \n",
    "jumpingOnClouds(c)"
   ]
  },
  {
   "cell_type": "markdown",
   "id": "a31f4040",
   "metadata": {},
   "source": [
    "repeated string"
   ]
  },
  {
   "cell_type": "markdown",
   "id": "f91e58e5",
   "metadata": {},
   "source": [
    "smarter answer"
   ]
  },
  {
   "cell_type": "code",
   "execution_count": 214,
   "id": "39bc1189",
   "metadata": {},
   "outputs": [
    {
     "data": {
      "text/plain": [
       "3"
      ]
     },
     "execution_count": 214,
     "metadata": {},
     "output_type": "execute_result"
    }
   ],
   "source": [
    "count_a_in_substring=s.count('a')\n",
    "count_full_substrings=n//len(s)\n",
    "count_as_in_full_substrings=count_a_in_substring*count_full_substrings\n",
    "count_as_in_full_substrings\n",
    "count_remaining_chars=n-(len(s)*count_full_substrings)\n",
    "count_remaining_chars\n",
    "count_as_in_remaining_chars=s[0:count_remaining_chars].count('a')\n",
    "count_as_total=count_as_in_full_substrings+count_as_in_remaining_chars\n",
    "count_as_total"
   ]
  },
  {
   "cell_type": "markdown",
   "id": "25df600c",
   "metadata": {},
   "source": [
    "loop works but took too long on large numbers"
   ]
  },
  {
   "cell_type": "code",
   "execution_count": 178,
   "id": "6c344967",
   "metadata": {},
   "outputs": [],
   "source": [
    "def repeatedString(s, n):\n",
    "    for i in range(1,n+1):\n",
    "        count_a=0\n",
    "        print(i)\n",
    "        s2=s*i\n",
    "        if len(s2)>n:\n",
    "            s3=[x for x in s2]\n",
    "            for j in range(0,n+1):\n",
    "                if s3[j]=='a':\n",
    "                    count_a+=1                \n",
    "            break\n",
    "    return(count_a)"
   ]
  },
  {
   "cell_type": "markdown",
   "id": "04909124",
   "metadata": {},
   "source": [
    "# arrays"
   ]
  },
  {
   "cell_type": "markdown",
   "id": "f41f8b2b",
   "metadata": {},
   "source": [
    "grabbed this non numpy solution - but for some reason it doesnt work on my end"
   ]
  },
  {
   "cell_type": "code",
   "execution_count": 269,
   "id": "7df6c635",
   "metadata": {},
   "outputs": [
    {
     "ename": "TypeError",
     "evalue": "'int' object is not subscriptable",
     "output_type": "error",
     "traceback": [
      "\u001b[1;31m---------------------------------------------------------------------------\u001b[0m",
      "\u001b[1;31mTypeError\u001b[0m                                 Traceback (most recent call last)",
      "\u001b[1;32m<ipython-input-269-cd6c3254a9b2>\u001b[0m in \u001b[0;36m<module>\u001b[1;34m\u001b[0m\n\u001b[0;32m      4\u001b[0m \u001b[1;32mfor\u001b[0m \u001b[0mi\u001b[0m \u001b[1;32min\u001b[0m \u001b[0mrange\u001b[0m\u001b[1;33m(\u001b[0m\u001b[0mlen\u001b[0m\u001b[1;33m(\u001b[0m\u001b[0marr\u001b[0m\u001b[1;33m)\u001b[0m\u001b[1;33m-\u001b[0m\u001b[1;36m2\u001b[0m\u001b[1;33m)\u001b[0m\u001b[1;33m:\u001b[0m\u001b[1;33m\u001b[0m\u001b[1;33m\u001b[0m\u001b[0m\n\u001b[0;32m      5\u001b[0m     \u001b[1;32mfor\u001b[0m \u001b[0mj\u001b[0m \u001b[1;32min\u001b[0m \u001b[0mrange\u001b[0m\u001b[1;33m(\u001b[0m\u001b[0mlen\u001b[0m\u001b[1;33m(\u001b[0m\u001b[0marr\u001b[0m\u001b[1;33m)\u001b[0m\u001b[1;33m-\u001b[0m\u001b[1;36m2\u001b[0m\u001b[1;33m)\u001b[0m\u001b[1;33m:\u001b[0m\u001b[1;33m\u001b[0m\u001b[1;33m\u001b[0m\u001b[0m\n\u001b[1;32m----> 6\u001b[1;33m         \u001b[0mhourglass_sum_list\u001b[0m\u001b[1;33m.\u001b[0m\u001b[0mappend\u001b[0m\u001b[1;33m(\u001b[0m\u001b[0marr\u001b[0m\u001b[1;33m[\u001b[0m\u001b[0mi\u001b[0m\u001b[1;33m]\u001b[0m\u001b[1;33m[\u001b[0m\u001b[0mj\u001b[0m\u001b[1;33m]\u001b[0m\u001b[1;33m+\u001b[0m\u001b[0marr\u001b[0m\u001b[1;33m[\u001b[0m\u001b[0mi\u001b[0m\u001b[1;33m]\u001b[0m\u001b[1;33m[\u001b[0m\u001b[0mj\u001b[0m\u001b[1;33m+\u001b[0m\u001b[1;36m1\u001b[0m\u001b[1;33m]\u001b[0m\u001b[1;33m+\u001b[0m\u001b[0marr\u001b[0m\u001b[1;33m[\u001b[0m\u001b[0mi\u001b[0m\u001b[1;33m]\u001b[0m\u001b[1;33m[\u001b[0m\u001b[0mj\u001b[0m\u001b[1;33m+\u001b[0m\u001b[1;36m2\u001b[0m\u001b[1;33m]\u001b[0m\u001b[1;33m+\u001b[0m\u001b[0marr\u001b[0m\u001b[1;33m[\u001b[0m\u001b[0mi\u001b[0m\u001b[1;33m+\u001b[0m\u001b[1;36m1\u001b[0m\u001b[1;33m]\u001b[0m\u001b[1;33m[\u001b[0m\u001b[0mj\u001b[0m\u001b[1;33m+\u001b[0m\u001b[1;36m1\u001b[0m\u001b[1;33m]\u001b[0m\u001b[1;33m+\u001b[0m\u001b[0marr\u001b[0m\u001b[1;33m[\u001b[0m\u001b[0mi\u001b[0m\u001b[1;33m+\u001b[0m\u001b[1;36m2\u001b[0m\u001b[1;33m]\u001b[0m\u001b[1;33m[\u001b[0m\u001b[0mj\u001b[0m\u001b[1;33m]\u001b[0m\u001b[1;33m+\u001b[0m\u001b[0marr\u001b[0m\u001b[1;33m[\u001b[0m\u001b[0mi\u001b[0m\u001b[1;33m+\u001b[0m\u001b[1;36m2\u001b[0m\u001b[1;33m]\u001b[0m\u001b[1;33m[\u001b[0m\u001b[0mj\u001b[0m\u001b[1;33m+\u001b[0m\u001b[1;36m1\u001b[0m\u001b[1;33m]\u001b[0m\u001b[1;33m+\u001b[0m\u001b[0marr\u001b[0m\u001b[1;33m[\u001b[0m\u001b[0mi\u001b[0m\u001b[1;33m+\u001b[0m\u001b[1;36m2\u001b[0m\u001b[1;33m]\u001b[0m\u001b[1;33m[\u001b[0m\u001b[0mj\u001b[0m\u001b[1;33m+\u001b[0m\u001b[1;36m2\u001b[0m\u001b[1;33m]\u001b[0m\u001b[1;33m)\u001b[0m\u001b[1;33m\u001b[0m\u001b[1;33m\u001b[0m\u001b[0m\n\u001b[0m\u001b[0;32m      7\u001b[0m \u001b[1;33m\u001b[0m\u001b[0m\n\u001b[0;32m      8\u001b[0m \u001b[0mprint\u001b[0m\u001b[1;33m(\u001b[0m\u001b[0mmax\u001b[0m\u001b[1;33m(\u001b[0m\u001b[0mhourglass_sum_list\u001b[0m\u001b[1;33m)\u001b[0m\u001b[1;33m)\u001b[0m\u001b[1;33m\u001b[0m\u001b[1;33m\u001b[0m\u001b[0m\n",
      "\u001b[1;31mTypeError\u001b[0m: 'int' object is not subscriptable"
     ]
    }
   ],
   "source": [
    "hourglass_sum_list = []\n",
    "\n",
    "\n",
    "for i in range(len(arr)-2):\n",
    "    for j in range(len(arr)-2):\n",
    "        hourglass_sum_list.append(arr[i][j]+arr[i][j+1]+arr[i][j+2]+arr[i+1][j+1]+arr[i+2][j]+arr[i+2][j+1]+arr[i+2][j+2])\n",
    "        \n",
    "print(max(hourglass_sum_list))"
   ]
  },
  {
   "cell_type": "markdown",
   "id": "ec994d9a",
   "metadata": {},
   "source": [
    "works on my end but they dont have numpy so it fails on their end"
   ]
  },
  {
   "cell_type": "code",
   "execution_count": 241,
   "id": "3645fce6",
   "metadata": {},
   "outputs": [],
   "source": [
    "arr=[1,1,1,0,0,0,\n",
    "0,1,0,0,0,0,\n",
    "1,1,1,0,0,0,\n",
    "0,0,2,4,4,0,\n",
    "0,0,0,2,0,0,\n",
    "0,0,1,2,4,0]\n",
    "# arr\n",
    "arr2=np.asarray(arr)\n",
    "arr3=np.resize(arr2,(6,6))\n",
    "# arr[21]"
   ]
  },
  {
   "cell_type": "code",
   "execution_count": 268,
   "id": "cd6c3a50",
   "metadata": {
    "scrolled": true
   },
   "outputs": [
    {
     "data": {
      "text/plain": [
       "19"
      ]
     },
     "execution_count": 268,
     "metadata": {},
     "output_type": "execute_result"
    }
   ],
   "source": [
    "arr2=np.asarray(arr)\n",
    "arr3=np.resize(arr2,(6,6))\n",
    "#cycle through first 4 rows\n",
    "hourglass_sum_list=[]\n",
    "for i in range(0,4):\n",
    "    #cycle through first 4 columns\n",
    "    for j in range(0,4):\n",
    "#         print('row',i,'column',j)\n",
    "#         print(arr3[i,j])\n",
    "        hourglass_sum=sum(list([arr3[i,j],arr3[i,j+1],arr3[i,j+2],arr3[i+1,j+1],arr3[i+2,j],arr3[i+2,j+1],arr3[i+2,j+2]]))\n",
    "#         print(hourglass_sum)\n",
    "        hourglass_sum_list.append(hourglass_sum)\n",
    "# max(hourglass_sum_list)\n",
    "return max(hourglass_sum_list)\n",
    "        "
   ]
  },
  {
   "cell_type": "code",
   "execution_count": null,
   "id": "e1bd78ab",
   "metadata": {},
   "outputs": [],
   "source": [
    "\n",
    "\n",
    "\n",
    "\n",
    "\n",
    "\n",
    "\n",
    "\n",
    "\n",
    "\n",
    "\n"
   ]
  }
 ],
 "metadata": {
  "kernelspec": {
   "display_name": "Python 3",
   "language": "python",
   "name": "python3"
  },
  "language_info": {
   "codemirror_mode": {
    "name": "ipython",
    "version": 3
   },
   "file_extension": ".py",
   "mimetype": "text/x-python",
   "name": "python",
   "nbconvert_exporter": "python",
   "pygments_lexer": "ipython3",
   "version": "3.8.8"
  }
 },
 "nbformat": 4,
 "nbformat_minor": 5
}
