{
 "cells": [
  {
   "cell_type": "code",
   "execution_count": 1,
   "id": "56870de9",
   "metadata": {},
   "outputs": [],
   "source": [
    "# HackerRank won't let me import these\n",
    "# import numpy as np\n",
    "# import pandas as pd\n",
    "# import math\n",
    "# import statistics\n",
    "\n",
    "# But has pre imported these...\n",
    "import math\n",
    "import os\n",
    "import random\n",
    "import re\n",
    "import sys"
   ]
  },
  {
   "cell_type": "markdown",
   "id": "04909124",
   "metadata": {},
   "source": [
    "# arrays"
   ]
  },
  {
   "cell_type": "markdown",
   "id": "f41f8b2b",
   "metadata": {},
   "source": [
    "rotate left"
   ]
  },
  {
   "cell_type": "code",
   "execution_count": 55,
   "id": "95140d2c",
   "metadata": {},
   "outputs": [
    {
     "data": {
      "text/plain": [
       "[87, 97, 33, 47, 70, 37, 8, 53, 13, 93, 71, 72, 51, 100, 60]"
      ]
     },
     "execution_count": 55,
     "metadata": {},
     "output_type": "execute_result"
    }
   ],
   "source": [
    "# a=[1,2,3,4,5]\n",
    "# d=4\n",
    "# d=5\n",
    "a=[33,47,70,37,8,53,13,93,71,72,51,100,60,87,97]\n",
    "d=13\n",
    "a2=[]\n",
    "for i in range(0,len(a)):\n",
    "#     print('i:',i,'i+1+d:',i+1+d,'len(a):',len(a),'a[i]:',a[i])\n",
    "    if i+d+1<=len(a):\n",
    "        a2.append(a[i+d])\n",
    "#         print('condition 1',a2)\n",
    "    else:\n",
    "        a2.append(a[i-(len(a)-d)])\n",
    "#         print('condition 2',a2)\n",
    "a2"
   ]
  },
  {
   "cell_type": "markdown",
   "id": "60680eb4",
   "metadata": {},
   "source": [
    "minimum bribes"
   ]
  },
  {
   "cell_type": "code",
   "execution_count": 143,
   "id": "1d5a74a6",
   "metadata": {},
   "outputs": [
    {
     "data": {
      "text/plain": [
       "[1, 2, 5, 3, 7, 8, 6, 4]"
      ]
     },
     "execution_count": 143,
     "metadata": {},
     "output_type": "execute_result"
    }
   ],
   "source": [
    "q=[1, 2, 5, 3, 7, 8, 6, 4]\n",
    "q"
   ]
  },
  {
   "cell_type": "code",
   "execution_count": 146,
   "id": "cec0733c",
   "metadata": {},
   "outputs": [
    {
     "name": "stdout",
     "output_type": "stream",
     "text": [
      "0 0\n",
      "1 1\n",
      "2 4\n",
      "3 2\n",
      "4 6\n",
      "5 7\n",
      "6 5\n",
      "7 3\n"
     ]
    }
   ],
   "source": [
    "Q=[1, 2, 5, 3, 7, 8, 6, 4]\n",
    "Q = [P-1 for P in Q]\n",
    "for i,p in enumerate(Q):\n",
    "    print(i,p)"
   ]
  },
  {
   "cell_type": "code",
   "execution_count": null,
   "id": "f6e923df",
   "metadata": {},
   "outputs": [],
   "source": [
    "def minimumBribes(Q):\n",
    "    Q=q\n",
    "    #\n",
    "    # initialize the number of moves\n",
    "    moves = 0 \n",
    "    #\n",
    "    # decrease Q by 1 to make index-matching more intuitive\n",
    "    # so that our values go from 0 to N-1, just like our\n",
    "    # indices.  (Not necessary but makes it easier to\n",
    "    # understand.)\n",
    "    Q = [P-1 for P in Q]\n",
    "    #\n",
    "    # Loop through each person (P) in the queue (Q)\n",
    "    for i,P in enumerate(Q):\n",
    "        # i is the current position of P, while P is the\n",
    "        # original position of P.\n",
    "        #\n",
    "        # First check if any P is more than two ahead of \n",
    "        # its original position\n",
    "        if P - i > 2:\n",
    "            print(\"Too chaotic\")\n",
    "            return\n",
    "        #\n",
    "        # From here on out, we don't care if P has moved\n",
    "        # forwards, it is better to count how many times\n",
    "        # P has RECEIVED a bribe, by looking at who is\n",
    "        # ahead of P.  P's original position is the value\n",
    "        # of P.\n",
    "        # Anyone who bribed P cannot get to higher than\n",
    "        # one position in front if P's original position,\n",
    "        # so we need to look from one position in front\n",
    "        # of P's original position to one in front of P's\n",
    "        # current position, and see how many of those \n",
    "        # positions in Q contain a number large than P.\n",
    "        # In other words we will look from P-1 to i-1,\n",
    "        # which in Python is range(P-1,i-1+1), or simply\n",
    "        # range(P-1,i).  To make sure we don't try an\n",
    "        # index less than zero, replace P-1 with\n",
    "        # max(P-1,0)\n",
    "        for j in range(max(P-1,0),i):\n",
    "            if Q[j] > P:\n",
    "                moves += 1\n",
    "    print(moves)"
   ]
  },
  {
   "cell_type": "markdown",
   "id": "bd7ac66d",
   "metadata": {},
   "source": [
    "my version, using bubble sort: works, but not optimized enough for very large lists"
   ]
  },
  {
   "cell_type": "code",
   "execution_count": 139,
   "id": "162d72ec",
   "metadata": {},
   "outputs": [
    {
     "name": "stdout",
     "output_type": "stream",
     "text": [
      "7\n"
     ]
    }
   ],
   "source": [
    "def bubble_sort(q):\n",
    "    a_list=q\n",
    "    bribes_dict={}\n",
    "    bribes_dict['test']=0\n",
    "    break_full_loop=False\n",
    "#     print('start',a_list)\n",
    "    for i in range(len(a_list) - 1, 0, -1): \n",
    "#         #check if theres a large difference between elements current and expected position: if so break\n",
    "#         #this causes some incorrect breaks: \n",
    "#         #even if distance is big, a combo of bribes with other elements could still put an element in position with going over 2\n",
    "#         diff_between_current_and_expected_position=abs((a_list[i])-i-1)\n",
    "#         print('i:',a_list[i],'diff_between_current_and_expected_position:',diff_between_current_and_expected_position)\n",
    "#         if diff_between_current_and_expected_position>=3:\n",
    "#                 break_full_loop=True          \n",
    "#                 break\n",
    "        for j in range(i):\n",
    "#             print('i:',i,'j:',j)\n",
    "#             #check if theres a large difference between elements current and expected position: if so break\n",
    "                #moved this above but it caused problems: see comment\n",
    "#             diff_between_current_and_expected_position=abs((a_list[j])-j-1)\n",
    "#             if diff_between_current_and_expected_position>=3:\n",
    "#                     break_full_loop=True            \n",
    "# #                     print('break')\n",
    "# #                     break\n",
    "            if a_list[j] > a_list[j + 1]:\n",
    "#                 print('flip',a_list[j],'and',a_list[j + 1])\n",
    "                #add key to dictionary. if its already there, add 1\n",
    "                if a_list[j] in bribes_dict:\n",
    "                    bribes_dict[a_list[j]]+=1\n",
    "                else:\n",
    "                    bribes_dict[a_list[j]]=1\n",
    "                #break once an item hits 3 flips: I think this is redundant with the break condition above\n",
    "                if bribes_dict[a_list[j]]==3:\n",
    "#                     print('Too chaotic')\n",
    "#                     break\n",
    "                    break_full_loop=True            \n",
    "#                     print('break')\n",
    "                    break\n",
    "#                 print(bribes_dict)\n",
    "                temp = a_list[j]\n",
    "                a_list[j] = a_list[j + 1]\n",
    "                a_list[j + 1] = temp\n",
    "        if break_full_loop: break\n",
    "#             print(a_list)\n",
    "    max_bribe=max(bribes_dict.values())\n",
    "    sum_bribes=sum(bribes_dict.values())\n",
    "    if break_full_loop:\n",
    "        print('Too chaotic')\n",
    "    elif max_bribe>=3:\n",
    "        print('Too chaotic')\n",
    "    else:\n",
    "        print(sum_bribes)\n",
    "\n",
    "\n",
    "# q = [54, 26, 93, 17, 77, 31, 44, 55, 20]\n",
    "# q=[2, 1, 5, 3, 4]\n",
    "# q=[2, 5, 1, 3, 4]\n",
    "q=[1, 2, 5, 3, 7, 8, 6, 4]\n",
    "bubble_sort(q)\n",
    "# print(a_list)\n",
    "# print(bribes_dict)"
   ]
  },
  {
   "cell_type": "markdown",
   "id": "02616b2b",
   "metadata": {},
   "source": [
    "minimum swaps 2"
   ]
  },
  {
   "cell_type": "markdown",
   "id": "cdfc3417",
   "metadata": {},
   "source": [
    "my version, using selection sort: works, but not optimized enough for very large lists"
   ]
  },
  {
   "cell_type": "code",
   "execution_count": null,
   "id": "b664285d",
   "metadata": {},
   "outputs": [],
   "source": [
    "def selection_sort(arr):\n",
    "    a_list=arr\n",
    "    swap_counter=0\n",
    "#     print('start',a_list)\n",
    "    for i, item in enumerate(a_list):\n",
    "        min_idx = len(a_list) - 1\n",
    "        for j in range(i, len(a_list)):\n",
    "#             print('i:',i,'j:',j,'min_idx:',min_idx)\n",
    "#             print('a_list[j]:',a_list[j],'a_list[min_idx]:',a_list[min_idx])\n",
    "            if a_list[j] < a_list[min_idx]:\n",
    "                min_idx = j\n",
    "#             print('inner loop output:',a_list)\n",
    "        if min_idx != i:\n",
    "            a_list[min_idx], a_list[i] = a_list[i], a_list[min_idx]\n",
    "            swap_counter+=1\n",
    "#             print('outer loop output:',a_list)\n",
    "    print(swap_counter)\n",
    "\n",
    "\n",
    "# arr = [54, 26, 93, 17, 77, 31, 44, 55, 20]\n",
    "arr=[4,3,1,2]\n",
    "# arr=[2,3,4,1,5]\n",
    "# arr=[1,3,5,2,4,6,7]\n",
    "selection_sort(arr)\n",
    "# print(a_list)"
   ]
  },
  {
   "cell_type": "markdown",
   "id": "260badf0",
   "metadata": {},
   "source": [
    "try optimizing"
   ]
  },
  {
   "cell_type": "code",
   "execution_count": 238,
   "id": "7d786c77",
   "metadata": {},
   "outputs": [
    {
     "name": "stdout",
     "output_type": "stream",
     "text": [
      "3\n"
     ]
    }
   ],
   "source": [
    "def selection_sort(arr):\n",
    "    swap_counter=0\n",
    "#     print('start:',arr)\n",
    "    for i in range(0,max(arr)):\n",
    "#         print(i)\n",
    "        #value & position of current max value\n",
    "        max_value=max(arr)-i\n",
    "        max_value_index=arr.index(max_value)\n",
    "        #if max_value is already in the right spot, skip\n",
    "#         print('max_value',max_value,'max_value_index',max_value_index)\n",
    "        if max_value==max_value_index+1:\n",
    "            continue\n",
    "        else:\n",
    "            #in the current position of max_value, place the other value\n",
    "            arr[max_value_index]=arr[max_value-1]\n",
    "            #in the destination position of max_value, place max_value\n",
    "            arr[max_value-1]=max_value\n",
    "            swap_counter+=1\n",
    "#         print(arr)\n",
    "        #break once fully sorted... feels like this step might not be very optimized\n",
    "        if list(range(0,len(arr)))==list(arr):\n",
    "#         if arr[0]==1:\n",
    "            break\n",
    "    print(swap_counter)\n",
    "# arr=[4,3,1,2]\n",
    "# arr=[2,3,4,1,5]\n",
    "arr=[1,3,5,2,4,6,7]\n",
    "selection_sort(arr)"
   ]
  },
  {
   "cell_type": "markdown",
   "id": "1db7bfe1",
   "metadata": {},
   "source": [
    "online solution"
   ]
  },
  {
   "cell_type": "code",
   "execution_count": 287,
   "id": "4d8ceb32",
   "metadata": {},
   "outputs": [],
   "source": [
    "#og - dont mod! detailed below\n",
    "def minimumSwaps(arr):\n",
    "    ref_arr = sorted(arr)\n",
    "    index_dict = {v: i for i,v in enumerate(arr)}\n",
    "    swaps = 0\n",
    "    \n",
    "    for i,v in enumerate(arr):\n",
    "        correct_value = ref_arr[i]\n",
    "        if v != correct_value:\n",
    "            to_swap_ix = index_dict[correct_value]\n",
    "            arr[to_swap_ix],arr[i] = arr[i], arr[to_swap_ix]\n",
    "            index_dict[v] = to_swap_ix\n",
    "            index_dict[correct_value] = i\n",
    "            swaps += 1\n",
    "            \n",
    "    return swaps"
   ]
  },
  {
   "cell_type": "code",
   "execution_count": 321,
   "id": "1864d3ce",
   "metadata": {
    "code_folding": [],
    "scrolled": false
   },
   "outputs": [
    {
     "name": "stdout",
     "output_type": "stream",
     "text": [
      "start arr: [1, 3, 5, 2, 4, 6, 7]\n",
      "start index_dict: {1: 0, 3: 1, 5: 2, 2: 3, 4: 4, 6: 5, 7: 6}\n",
      "i: 0 v: 1 correct_value: 1\n",
      "i: 1 v: 3 correct_value: 2\n",
      "to_swap_ix: 3\n",
      "updated arr: [1, 2, 5, 3, 4, 6, 7]\n",
      "updated index_dict 1: {1: 0, 3: 3, 5: 2, 2: 3, 4: 4, 6: 5, 7: 6}\n",
      "updated index_dict 2: {1: 0, 3: 3, 5: 2, 2: 1, 4: 4, 6: 5, 7: 6}\n",
      "i: 2 v: 5 correct_value: 3\n",
      "to_swap_ix: 3\n",
      "updated arr: [1, 2, 3, 5, 4, 6, 7]\n",
      "updated index_dict 1: {1: 0, 3: 3, 5: 3, 2: 1, 4: 4, 6: 5, 7: 6}\n",
      "updated index_dict 2: {1: 0, 3: 2, 5: 3, 2: 1, 4: 4, 6: 5, 7: 6}\n",
      "i: 3 v: 5 correct_value: 4\n",
      "to_swap_ix: 4\n",
      "updated arr: [1, 2, 3, 4, 5, 6, 7]\n",
      "updated index_dict 1: {1: 0, 3: 2, 5: 4, 2: 1, 4: 4, 6: 5, 7: 6}\n",
      "updated index_dict 2: {1: 0, 3: 2, 5: 4, 2: 1, 4: 3, 6: 5, 7: 6}\n",
      "i: 4 v: 5 correct_value: 5\n",
      "i: 5 v: 6 correct_value: 6\n",
      "i: 6 v: 7 correct_value: 7\n"
     ]
    },
    {
     "data": {
      "text/plain": [
       "3"
      ]
     },
     "execution_count": 321,
     "metadata": {},
     "output_type": "execute_result"
    }
   ],
   "source": [
    "#uses a dictionary (index_dict), i.e. hash table (faster to look through), to store current value and correct values.\n",
    "#goes through each element of arr. finds incorrectly sorted values in arr. looks up the correct values in the dictionary\n",
    "#then swaps out current and correct values in arr, and ALSO swaps them out in the dictionary\n",
    "#although this feels like more complicated than what I did above, the process of looking through a list must be so long\n",
    "#that doing this more complex task that relies on hash table lookup makes it worthwhile\n",
    "def minimumSwaps(arr):\n",
    "    ref_arr = sorted(arr)\n",
    "    index_dict = {v: i for i,v in enumerate(arr)} #dictionary with key: unsorted arr, value: sorted arr\n",
    "    swaps = 0\n",
    "    print('start arr:',arr)\n",
    "    print('start index_dict:',index_dict)\n",
    "    \n",
    "    for i,v in enumerate(arr):\n",
    "        correct_value = ref_arr[i] #pull correct value from sorted arr\n",
    "        print('i:',i,'v:',v,'correct_value:',correct_value)\n",
    "        if v != correct_value: #only run if value isnt correct\n",
    "            to_swap_ix = index_dict[correct_value] #to_swap_ix is the index of the number to swap with correct_value\n",
    "            #so in index_dict we look up the correct value as a key, then retrieve its index as a value\n",
    "            #this is why index_dict has i and v switched when we create it above\n",
    "            #we never actually see what the number being swapped is - we only retrieve its index\n",
    "            print('to_swap_ix:',to_swap_ix)\n",
    "            #perform the swap in arr between v and the number at index to_swap_ix\n",
    "            arr[to_swap_ix],arr[i] = arr[i], arr[to_swap_ix]\n",
    "            print('updated arr:',arr)\n",
    "            #adjust index_dict to match arr in 2-step swap:\n",
    "            index_dict[v] = to_swap_ix #set value at key v to the index of correct_value\n",
    "            print('updated index_dict 1:',index_dict)\n",
    "            index_dict[correct_value] = i #set value at key correct_value to i\n",
    "            print('updated index_dict 2:',index_dict)\n",
    "            swaps += 1 #add to the swap counter\n",
    "            \n",
    "    return swaps\n",
    "\n",
    "arr=[1,3,5,2,4,6,7]\n",
    "# arr=[1 3 5 2 4 6 7]\n",
    "minimumSwaps(arr)"
   ]
  },
  {
   "cell_type": "markdown",
   "id": "d74b13e0",
   "metadata": {},
   "source": [
    "arrayManipulation"
   ]
  },
  {
   "cell_type": "markdown",
   "id": "af70c3c3",
   "metadata": {},
   "source": [
    "my version: works, but not optimized enough for very large lists"
   ]
  },
  {
   "cell_type": "code",
   "execution_count": 344,
   "id": "236154f9",
   "metadata": {},
   "outputs": [
    {
     "name": "stdout",
     "output_type": "stream",
     "text": [
      "[100, 100, 0, 0, 0]\n",
      "[100, 200, 100, 100, 100]\n",
      "[100, 200, 200, 200, 100]\n"
     ]
    },
    {
     "data": {
      "text/plain": [
       "200"
      ]
     },
     "execution_count": 344,
     "metadata": {},
     "output_type": "execute_result"
    }
   ],
   "source": [
    "def arrayManipulation(n, queries):\n",
    "    start_list=[0]*n\n",
    "#     print(n)\n",
    "#     print(start_list)\n",
    "    for i in range(0,len(queries)):\n",
    "#         print(queries[i])\n",
    "        bound_a=queries[i][0]\n",
    "        bound_b=queries[i][1]\n",
    "        add_k=queries[i][2]\n",
    "        for j in range(0,n):\n",
    "            if bound_a<=j+1<=bound_b:\n",
    "                start_list[j]+=add_k\n",
    "        print(start_list)\n",
    "    return max(start_list)\n",
    "#             print(j)\n",
    "#             print(start_list)\n",
    "\n",
    "        \n",
    "\n",
    "test_arr=[[1,2,100],[2,5,100],[3,4,100]]\n",
    "\n",
    "arrayManipulation(n=5,queries=test_arr)"
   ]
  },
  {
   "cell_type": "markdown",
   "id": "75b26412",
   "metadata": {},
   "source": [
    "online solution: it works but i still dont get it"
   ]
  },
  {
   "cell_type": "code",
   "execution_count": 346,
   "id": "519bcdad",
   "metadata": {},
   "outputs": [
    {
     "name": "stdout",
     "output_type": "stream",
     "text": [
      "[100, 0, -100, 0, 0, 0]\n",
      "[100, 100, -100, 0, 0, -100]\n",
      "[100, 100, 0, 0, -100, -100]\n",
      "0\n",
      "100\n",
      "200\n",
      "200\n",
      "200\n",
      "100\n",
      "[100, 100, 0, 0, -100, -100]\n"
     ]
    },
    {
     "data": {
      "text/plain": [
       "200"
      ]
     },
     "execution_count": 346,
     "metadata": {},
     "output_type": "execute_result"
    }
   ],
   "source": [
    "def arrayManipulation(n, queries):\n",
    "    array = [0] * (n + 1)\n",
    "    \n",
    "    for query in queries: \n",
    "        a = query[0] - 1\n",
    "        b = query[1]\n",
    "        k = query[2]\n",
    "        array[a] += k\n",
    "        array[b] -= k\n",
    "        print(array)\n",
    "        \n",
    "    max_value = 0\n",
    "    running_count = 0\n",
    "    for i in array:\n",
    "        print(running_count)\n",
    "        running_count += i\n",
    "        if running_count > max_value:\n",
    "            max_value = running_count\n",
    "            \n",
    "    print(array)\n",
    "    return max_value\n",
    "\n",
    "test_arr=[[1,2,100],[2,5,100],[3,4,100]]\n",
    "\n",
    "arrayManipulation(n=5,queries=test_arr)"
   ]
  },
  {
   "cell_type": "markdown",
   "id": "981967c1",
   "metadata": {},
   "source": [
    "The idea here is to not actually access every element the query would modify as it takes up too much time. First we build an array of n+1 0's. For each query, we will add k to the value at index a - 1 (to convert to 0 indexed array), and subtract the value of k from the value at index b (this is the same as b + 1 if the array were 0 indexed which is what we want). Thus the non-zero values of the array represent how the 0s between them differ from what comes before and after.\n",
    "\n",
    "For example if we start with this array: [0, 0, 0, 0, 0]\n",
    "\n",
    "And our query is: (a=1, b=3, k=100)\n",
    "\n",
    "We would modify the array to the following: [100, 0, 0, -100, 0].\n",
    "\n",
    "The 100 tells us that its value and every value that comes after it is 100 greater than what comes before (in this case nothing, so all these values are 100). The -100, tells us that it and every value that comes after it are 100 LESS than what came before. This way we only have to perform 2 operations in O(1) time for each query, regardless of how many values it modifies.\n",
    "\n",
    "Then to find the max value, we can simply initialize two counter variables to 0 and run through the entire array, adding each element to one of the counters and then checking to see if the number is the largest number we've seen. Then we simply return the counter with the max value we've seen. Voila!\n",
    "\n",
    "Thanks to other commenters from whom I stole the idea. I just wanted to provide a really well explaned, high-level solution for those that are beginner programmers."
   ]
  },
  {
   "cell_type": "code",
   "execution_count": null,
   "id": "bf825b60",
   "metadata": {},
   "outputs": [],
   "source": [
    "list 0 0 0 0 0\n",
    "\n",
    "a b k\n",
    "1 2 100\n",
    "2 5 100\n",
    "3 4 100\n",
    "\n",
    "\n",
    "0 0 0 0 0\n",
    "# list 1: between 1 and 2 a and b line 1, k=100\n",
    "100 100 0 0 0\n",
    "#list 2: between 2 and 5 a and b line 2, k=100\n",
    "100 200 100 100 100\n",
    "#list 3: between 3 and 4 a and b line 3, k=100\n",
    "100 200 200 200 100\n",
    "\n",
    "\n",
    "#1st pass\n"
   ]
  },
  {
   "cell_type": "code",
   "execution_count": null,
   "id": "e1bd78ab",
   "metadata": {},
   "outputs": [],
   "source": [
    "\n",
    "\n",
    "\n",
    "\n",
    "\n",
    "\n",
    "\n",
    "\n",
    "\n",
    "\n"
   ]
  }
 ],
 "metadata": {
  "kernelspec": {
   "display_name": "Python 3",
   "language": "python",
   "name": "python3"
  },
  "language_info": {
   "codemirror_mode": {
    "name": "ipython",
    "version": 3
   },
   "file_extension": ".py",
   "mimetype": "text/x-python",
   "name": "python",
   "nbconvert_exporter": "python",
   "pygments_lexer": "ipython3",
   "version": "3.8.8"
  }
 },
 "nbformat": 4,
 "nbformat_minor": 5
}
